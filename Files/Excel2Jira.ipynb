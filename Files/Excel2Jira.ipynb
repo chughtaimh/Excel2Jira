{
 "cells": [
  {
   "cell_type": "code",
   "execution_count": 2,
   "metadata": {
    "collapsed": true
   },
   "outputs": [],
   "source": [
    "import pyperclip"
   ]
  },
  {
   "cell_type": "code",
   "execution_count": 3,
   "metadata": {
    "collapsed": false
   },
   "outputs": [],
   "source": [
    "excel = pyperclip.paste()"
   ]
  },
  {
   "cell_type": "code",
   "execution_count": 8,
   "metadata": {
    "collapsed": false
   },
   "outputs": [],
   "source": [
    "excel = excel.replace('\\r\\n', '\\r')"
   ]
  },
  {
   "cell_type": "code",
   "execution_count": 14,
   "metadata": {
    "collapsed": false
   },
   "outputs": [
    {
     "data": {
      "text/plain": [
       "u\"Account\\tSpend\\rHeineken\\t$10,000 \\rBobs's Burgers\\t$10 \\r\""
      ]
     },
     "execution_count": 14,
     "metadata": {},
     "output_type": "execute_result"
    }
   ],
   "source": [
    "excel"
   ]
  },
  {
   "cell_type": "code",
   "execution_count": 16,
   "metadata": {
    "collapsed": true
   },
   "outputs": [],
   "source": [
    "def headers(text):\n",
    "    header = text.split('\\r')[0]\n",
    "    header_columns = header.split('\\t')\n",
    "    return '||' + '||'.join(header_columns) + '||\\r'"
   ]
  },
  {
   "cell_type": "code",
   "execution_count": 59,
   "metadata": {
    "collapsed": false
   },
   "outputs": [],
   "source": [
    "def columns(text):\n",
    "    text = text.strip('\\r')                #remove any leading or trailing new line characters\n",
    "    non_headers = text.split('\\r')[1:]     #split text by new line characters and take all but first\n",
    "    rtn = '|'                              #new string that will be returned\n",
    "    for row in non_headers:               \n",
    "        for column in row.split('\\t'):     #column values are separated by tabs\n",
    "            rtn += column + '|'            \n",
    "        rtn += '\\r|'\n",
    "    return rtn.rstrip('|')                 #return everything but the trailing \"|\""
   ]
  },
  {
   "cell_type": "code",
   "execution_count": 62,
   "metadata": {
    "collapsed": true
   },
   "outputs": [],
   "source": [
    "def excel_to_jira(text):\n",
    "    return str(headers(text) + columns(text))"
   ]
  },
  {
   "cell_type": "code",
   "execution_count": 63,
   "metadata": {
    "collapsed": false
   },
   "outputs": [
    {
     "data": {
      "text/plain": [
       "\"||Account||Spend||\\r|Heineken|$10,000 |\\r|Bobs's Burgers|$10 |\\r\""
      ]
     },
     "execution_count": 63,
     "metadata": {},
     "output_type": "execute_result"
    }
   ],
   "source": [
    "excel_to_jira(excel)"
   ]
  },
  {
   "cell_type": "code",
   "execution_count": null,
   "metadata": {
    "collapsed": true
   },
   "outputs": [],
   "source": [
    "str.rstrip()"
   ]
  }
 ],
 "metadata": {
  "kernelspec": {
   "display_name": "Python 2",
   "language": "python",
   "name": "python2"
  },
  "language_info": {
   "codemirror_mode": {
    "name": "ipython",
    "version": 2
   },
   "file_extension": ".py",
   "mimetype": "text/x-python",
   "name": "python",
   "nbconvert_exporter": "python",
   "pygments_lexer": "ipython2",
   "version": "2.7.11"
  }
 },
 "nbformat": 4,
 "nbformat_minor": 0
}
